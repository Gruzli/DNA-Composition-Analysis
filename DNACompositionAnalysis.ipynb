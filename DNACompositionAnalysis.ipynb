{
 "cells": [
  {
   "cell_type": "code",
   "execution_count": 2,
   "metadata": {},
   "outputs": [
    {
     "name": "stdout",
     "output_type": "stream",
     "text": [
      "Note: you may need to restart the kernel to use updated packages.Requirement already satisfied: BioPython in c:\\users\\hp\\appdata\\local\\programs\\python\\python311\\lib\\site-packages (1.83)\n",
      "Requirement already satisfied: numpy in c:\\users\\hp\\appdata\\local\\programs\\python\\python311\\lib\\site-packages (from BioPython) (1.25.2)\n",
      "\n"
     ]
    },
    {
     "name": "stderr",
     "output_type": "stream",
     "text": [
      "\n",
      "[notice] A new release of pip is available: 23.1.2 -> 24.0\n",
      "[notice] To update, run: python.exe -m pip install --upgrade pip\n"
     ]
    }
   ],
   "source": [
    "%pip install BioPython"
   ]
  },
  {
   "cell_type": "code",
   "execution_count": 3,
   "metadata": {},
   "outputs": [],
   "source": [
    "from Bio.SeqUtils import Seq"
   ]
  },
  {
   "cell_type": "code",
   "execution_count": 4,
   "metadata": {},
   "outputs": [
    {
     "name": "stdout",
     "output_type": "stream",
     "text": [
      "CTAGCTAGCAGTACGTATTG\n"
     ]
    }
   ],
   "source": [
    "SeqA = Seq(\"CTAGCTAGCAGTACGTATTG\")\n",
    "print(SeqA)"
   ]
  },
  {
   "cell_type": "code",
   "execution_count": 5,
   "metadata": {},
   "outputs": [],
   "source": [
    "def GC_Composition(seq):\n",
    "    gc = []\n",
    "\n",
    "    for x in seq:\n",
    "        if x == \"G\" or x == \"C\":\n",
    "            gc.append(x)\n",
    "    \n",
    "    return len(gc)/len(seq)*100"
   ]
  },
  {
   "cell_type": "code",
   "execution_count": 6,
   "metadata": {},
   "outputs": [
    {
     "name": "stdout",
     "output_type": "stream",
     "text": [
      "45.0 %\n"
     ]
    }
   ],
   "source": [
    "# GC\n",
    "print(GC_Composition(SeqA), \"%\")"
   ]
  },
  {
   "cell_type": "code",
   "execution_count": 7,
   "metadata": {},
   "outputs": [
    {
     "name": "stdout",
     "output_type": "stream",
     "text": [
      "55.0 %\n"
     ]
    }
   ],
   "source": [
    "# AT\n",
    "print(100 - GC_Composition(SeqA), \"%\")"
   ]
  },
  {
   "cell_type": "code",
   "execution_count": 8,
   "metadata": {},
   "outputs": [],
   "source": [
    "# GC composition 2\n",
    "def GC_Composition2(seq):\n",
    "    gc =[x for x in seq if x in \"GC\"]\n",
    "    \n",
    "    return len(gc)/len(seq)*100\n"
   ]
  },
  {
   "cell_type": "code",
   "execution_count": 9,
   "metadata": {},
   "outputs": [
    {
     "name": "stdout",
     "output_type": "stream",
     "text": [
      "45.0 %\n"
     ]
    }
   ],
   "source": [
    "print(GC_Composition2(SeqA), \"%\")"
   ]
  },
  {
   "cell_type": "code",
   "execution_count": 10,
   "metadata": {},
   "outputs": [
    {
     "ename": "ImportError",
     "evalue": "cannot import name 'GC' from 'Bio.SeqUtils' (c:\\Users\\hp\\AppData\\Local\\Programs\\Python\\Python311\\Lib\\site-packages\\Bio\\SeqUtils\\__init__.py)",
     "output_type": "error",
     "traceback": [
      "\u001b[1;31m---------------------------------------------------------------------------\u001b[0m",
      "\u001b[1;31mImportError\u001b[0m                               Traceback (most recent call last)",
      "Cell \u001b[1;32mIn[10], line 1\u001b[0m\n\u001b[1;32m----> 1\u001b[0m \u001b[38;5;28;01mfrom\u001b[39;00m \u001b[38;5;21;01mBio\u001b[39;00m\u001b[38;5;21;01m.\u001b[39;00m\u001b[38;5;21;01mSeqUtils\u001b[39;00m \u001b[38;5;28;01mimport\u001b[39;00m GC\n",
      "\u001b[1;31mImportError\u001b[0m: cannot import name 'GC' from 'Bio.SeqUtils' (c:\\Users\\hp\\AppData\\Local\\Programs\\Python\\Python311\\Lib\\site-packages\\Bio\\SeqUtils\\__init__.py)"
     ]
    }
   ],
   "source": [
    "from Bio.SeqUtils import GC"
   ]
  },
  {
   "cell_type": "code",
   "execution_count": null,
   "metadata": {},
   "outputs": [],
   "source": [
    "print(GC(SeqA), \"%\" )"
   ]
  },
  {
   "cell_type": "code",
   "execution_count": 13,
   "metadata": {},
   "outputs": [
    {
     "ename": "ImportError",
     "evalue": "cannot import name 'MeltingTemp' from 'Bio.Seq' (c:\\Users\\hp\\AppData\\Local\\Programs\\Python\\Python311\\Lib\\site-packages\\Bio\\Seq.py)",
     "output_type": "error",
     "traceback": [
      "\u001b[1;31m---------------------------------------------------------------------------\u001b[0m",
      "\u001b[1;31mImportError\u001b[0m                               Traceback (most recent call last)",
      "Cell \u001b[1;32mIn[13], line 1\u001b[0m\n\u001b[1;32m----> 1\u001b[0m \u001b[38;5;28;01mfrom\u001b[39;00m \u001b[38;5;21;01mBio\u001b[39;00m\u001b[38;5;21;01m.\u001b[39;00m\u001b[38;5;21;01mSeq\u001b[39;00m \u001b[38;5;28;01mimport\u001b[39;00m MeltingTemp \u001b[38;5;28;01mas\u001b[39;00m mt\n",
      "\u001b[1;31mImportError\u001b[0m: cannot import name 'MeltingTemp' from 'Bio.Seq' (c:\\Users\\hp\\AppData\\Local\\Programs\\Python\\Python311\\Lib\\site-packages\\Bio\\Seq.py)"
     ]
    }
   ],
   "source": [
    "from Bio.Seq import MeltingTemp as mt"
   ]
  },
  {
   "cell_type": "code",
   "execution_count": null,
   "metadata": {},
   "outputs": [],
   "source": [
    "# Meltingtemp GC Composition\n",
    "print(mt.TM_GC(SeqA), \"°C\")"
   ]
  },
  {
   "cell_type": "code",
   "execution_count": null,
   "metadata": {},
   "outputs": [],
   "source": [
    "# nearest neighbor thermodynamics\n",
    "print(mt.Tm_NN(SeqA), \"°C\")"
   ]
  },
  {
   "cell_type": "code",
   "execution_count": null,
   "metadata": {},
   "outputs": [],
   "source": [
    "# rule of thumb wallace\n",
    "print(mt.Tm_Wallace(SeqA), \"°C\")"
   ]
  },
  {
   "cell_type": "code",
   "execution_count": null,
   "metadata": {},
   "outputs": [],
   "source": [
    "# alt + shift + down\n",
    "def wallace_formula(seq):\n",
    "    countC = seq.count(\"C\")\n",
    "    countG = seq.count(\"G\")\n",
    "    countA = seq.count(\"A\")\n",
    "    countT = seq.count(\"T\")\n",
    "\n",
    "    if len(seq) < 14:\n",
    "        Tm = (countG + countC) * 4 + (countA + countT) * 2\n",
    "    elif len(seq) > 13:\n",
    "        Tm = 64.9 + 41 * (countG + countC - 16.4) / len(seq)"
   ]
  },
  {
   "cell_type": "code",
   "execution_count": null,
   "metadata": {},
   "outputs": [],
   "source": [
    "print(wallace_formula(SeqA), \"°C\")"
   ]
  },
  {
   "cell_type": "code",
   "execution_count": 11,
   "metadata": {},
   "outputs": [],
   "source": [
    "# molecular weight\n",
    "from Bio.SeqUtils import molecular_weight as mw"
   ]
  },
  {
   "cell_type": "code",
   "execution_count": 12,
   "metadata": {},
   "outputs": [
    {
     "name": "stdout",
     "output_type": "stream",
     "text": [
      "6211.9637 g/mol\n"
     ]
    }
   ],
   "source": [
    "print(mw(SeqA), \"g/mol\")"
   ]
  },
  {
   "cell_type": "code",
   "execution_count": 19,
   "metadata": {},
   "outputs": [],
   "source": [
    "# molecular weight of nucleotide\n",
    "def nucleotides(seq, nuc):\n",
    "    n = [y for y in seq if y in nuc]\n",
    "    n_string = \"\".join(n)\n",
    "    return mw(n_string)"
   ]
  },
  {
   "cell_type": "code",
   "execution_count": 24,
   "metadata": {},
   "outputs": [
    {
     "name": "stdout",
     "output_type": "stream",
     "text": [
      "1584.0477999999998 g/mol\n"
     ]
    }
   ],
   "source": [
    "print(nucleotides(SeqA, \"A\"), \"g/mol\")"
   ]
  },
  {
   "cell_type": "code",
   "execution_count": 30,
   "metadata": {},
   "outputs": [
    {
     "ename": "ValueError",
     "evalue": "''1'' is not a valid unambiguous letter for DNA",
     "output_type": "error",
     "traceback": [
      "\u001b[1;31m---------------------------------------------------------------------------\u001b[0m",
      "\u001b[1;31mValueError\u001b[0m                                Traceback (most recent call last)",
      "Cell \u001b[1;32mIn[30], line 1\u001b[0m\n\u001b[1;32m----> 1\u001b[0m \u001b[38;5;28mprint\u001b[39m(\u001b[43mmw\u001b[49m\u001b[43m(\u001b[49m\u001b[43mnucleotides\u001b[49m\u001b[43m(\u001b[49m\u001b[43mSeqA\u001b[49m\u001b[43m,\u001b[49m\u001b[43m \u001b[49m\u001b[38;5;124;43m\"\u001b[39;49m\u001b[38;5;124;43mA\u001b[39;49m\u001b[38;5;124;43m\"\u001b[39;49m\u001b[43m)\u001b[49m\u001b[43m)\u001b[49m)\n\u001b[0;32m      2\u001b[0m \u001b[38;5;28mprint\u001b[39m(mw(nucleotides(SeqA, \u001b[38;5;124m\"\u001b[39m\u001b[38;5;124mC\u001b[39m\u001b[38;5;124m\"\u001b[39m)))\n\u001b[0;32m      3\u001b[0m \u001b[38;5;28mprint\u001b[39m(mw(nucleotides(SeqA, \u001b[38;5;124m\"\u001b[39m\u001b[38;5;124mG\u001b[39m\u001b[38;5;124m\"\u001b[39m)))\n",
      "File \u001b[1;32mc:\\Users\\hp\\AppData\\Local\\Programs\\Python\\Python311\\Lib\\site-packages\\Bio\\SeqUtils\\__init__.py:474\u001b[0m, in \u001b[0;36mmolecular_weight\u001b[1;34m(seq, seq_type, double_stranded, circular, monoisotopic)\u001b[0m\n\u001b[0;32m    472\u001b[0m         weight \u001b[38;5;241m-\u001b[39m\u001b[38;5;241m=\u001b[39m water\n\u001b[0;32m    473\u001b[0m \u001b[38;5;28;01mexcept\u001b[39;00m \u001b[38;5;167;01mKeyError\u001b[39;00m \u001b[38;5;28;01mas\u001b[39;00m e:\n\u001b[1;32m--> 474\u001b[0m     \u001b[38;5;28;01mraise\u001b[39;00m \u001b[38;5;167;01mValueError\u001b[39;00m(\n\u001b[0;32m    475\u001b[0m         \u001b[38;5;124mf\u001b[39m\u001b[38;5;124m\"\u001b[39m\u001b[38;5;124m'\u001b[39m\u001b[38;5;132;01m{\u001b[39;00me\u001b[38;5;132;01m}\u001b[39;00m\u001b[38;5;124m'\u001b[39m\u001b[38;5;124m is not a valid unambiguous letter for \u001b[39m\u001b[38;5;132;01m{\u001b[39;00mseq_type\u001b[38;5;132;01m}\u001b[39;00m\u001b[38;5;124m\"\u001b[39m\n\u001b[0;32m    476\u001b[0m     ) \u001b[38;5;28;01mfrom\u001b[39;00m \u001b[38;5;28;01mNone\u001b[39;00m\n\u001b[0;32m    478\u001b[0m \u001b[38;5;28;01mif\u001b[39;00m double_stranded:\n\u001b[0;32m    479\u001b[0m     \u001b[38;5;28;01mif\u001b[39;00m seq_type \u001b[38;5;241m==\u001b[39m \u001b[38;5;124m\"\u001b[39m\u001b[38;5;124mprotein\u001b[39m\u001b[38;5;124m\"\u001b[39m:\n",
      "\u001b[1;31mValueError\u001b[0m: ''1'' is not a valid unambiguous letter for DNA"
     ]
    }
   ],
   "source": [
    "print(mw(nucleotides(SeqA, \"A\")))\n",
    "print(mw(nucleotides(SeqA, \"C\")))\n",
    "print(mw(nucleotides(SeqA, \"G\")))\n",
    "print(mw(nucleotides(SeqA, \"T\")))\n",
    "print(mw(SeqA), \"g/mol\")"
   ]
  },
  {
   "cell_type": "code",
   "execution_count": 26,
   "metadata": {},
   "outputs": [],
   "source": [
    "from matplotlib import pyplot as plt"
   ]
  },
  {
   "cell_type": "code",
   "execution_count": 28,
   "metadata": {},
   "outputs": [
    {
     "ename": "ValueError",
     "evalue": "''1'' is not a valid unambiguous letter for DNA",
     "output_type": "error",
     "traceback": [
      "\u001b[1;31m---------------------------------------------------------------------------\u001b[0m",
      "\u001b[1;31mValueError\u001b[0m                                Traceback (most recent call last)",
      "Cell \u001b[1;32mIn[28], line 1\u001b[0m\n\u001b[1;32m----> 1\u001b[0m mwA \u001b[38;5;241m=\u001b[39m \u001b[43mmw\u001b[49m\u001b[43m(\u001b[49m\u001b[43mnucleotides\u001b[49m\u001b[43m(\u001b[49m\u001b[43mSeqA\u001b[49m\u001b[43m,\u001b[49m\u001b[43m \u001b[49m\u001b[38;5;124;43m\"\u001b[39;49m\u001b[38;5;124;43mA\u001b[39;49m\u001b[38;5;124;43m\"\u001b[39;49m\u001b[43m)\u001b[49m\u001b[43m)\u001b[49m\n\u001b[0;32m      2\u001b[0m mwC \u001b[38;5;241m=\u001b[39m mw(nucleotides(SeqA, \u001b[38;5;124m\"\u001b[39m\u001b[38;5;124mC\u001b[39m\u001b[38;5;124m\"\u001b[39m))\n\u001b[0;32m      3\u001b[0m mwG \u001b[38;5;241m=\u001b[39m mw(nucleotides(SeqA, \u001b[38;5;124m\"\u001b[39m\u001b[38;5;124mG\u001b[39m\u001b[38;5;124m\"\u001b[39m))\n",
      "File \u001b[1;32mc:\\Users\\hp\\AppData\\Local\\Programs\\Python\\Python311\\Lib\\site-packages\\Bio\\SeqUtils\\__init__.py:474\u001b[0m, in \u001b[0;36mmolecular_weight\u001b[1;34m(seq, seq_type, double_stranded, circular, monoisotopic)\u001b[0m\n\u001b[0;32m    472\u001b[0m         weight \u001b[38;5;241m-\u001b[39m\u001b[38;5;241m=\u001b[39m water\n\u001b[0;32m    473\u001b[0m \u001b[38;5;28;01mexcept\u001b[39;00m \u001b[38;5;167;01mKeyError\u001b[39;00m \u001b[38;5;28;01mas\u001b[39;00m e:\n\u001b[1;32m--> 474\u001b[0m     \u001b[38;5;28;01mraise\u001b[39;00m \u001b[38;5;167;01mValueError\u001b[39;00m(\n\u001b[0;32m    475\u001b[0m         \u001b[38;5;124mf\u001b[39m\u001b[38;5;124m\"\u001b[39m\u001b[38;5;124m'\u001b[39m\u001b[38;5;132;01m{\u001b[39;00me\u001b[38;5;132;01m}\u001b[39;00m\u001b[38;5;124m'\u001b[39m\u001b[38;5;124m is not a valid unambiguous letter for \u001b[39m\u001b[38;5;132;01m{\u001b[39;00mseq_type\u001b[38;5;132;01m}\u001b[39;00m\u001b[38;5;124m\"\u001b[39m\n\u001b[0;32m    476\u001b[0m     ) \u001b[38;5;28;01mfrom\u001b[39;00m \u001b[38;5;28;01mNone\u001b[39;00m\n\u001b[0;32m    478\u001b[0m \u001b[38;5;28;01mif\u001b[39;00m double_stranded:\n\u001b[0;32m    479\u001b[0m     \u001b[38;5;28;01mif\u001b[39;00m seq_type \u001b[38;5;241m==\u001b[39m \u001b[38;5;124m\"\u001b[39m\u001b[38;5;124mprotein\u001b[39m\u001b[38;5;124m\"\u001b[39m:\n",
      "\u001b[1;31mValueError\u001b[0m: ''1'' is not a valid unambiguous letter for DNA"
     ]
    }
   ],
   "source": [
    "mwA = mw(nucleotides(SeqA, \"A\"))\n",
    "mwC = mw(nucleotides(SeqA, \"C\"))\n",
    "mwG = mw(nucleotides(SeqA, \"G\"))\n",
    "mwT = mw(nucleotides(SeqA, \"T\"))\n",
    "\n",
    "mwList = [mwA, mwC, mwG, mwT]\n",
    "mwLabels = [\"A\", \"C\", \"G\", \"T\"]"
   ]
  },
  {
   "cell_type": "code",
   "execution_count": 29,
   "metadata": {},
   "outputs": [
    {
     "ename": "NameError",
     "evalue": "name 'mwList' is not defined",
     "output_type": "error",
     "traceback": [
      "\u001b[1;31m---------------------------------------------------------------------------\u001b[0m",
      "\u001b[1;31mNameError\u001b[0m                                 Traceback (most recent call last)",
      "Cell \u001b[1;32mIn[29], line 1\u001b[0m\n\u001b[1;32m----> 1\u001b[0m plt\u001b[38;5;241m.\u001b[39mpie(\u001b[43mmwList\u001b[49m, labels \u001b[38;5;241m=\u001b[39m mwLabels, autopct \u001b[38;5;241m=\u001b[39m \u001b[38;5;124m\"\u001b[39m\u001b[38;5;132;01m%1.1f\u001b[39;00m\u001b[38;5;132;01m%%\u001b[39;00m\u001b[38;5;124m\"\u001b[39m)\n",
      "\u001b[1;31mNameError\u001b[0m: name 'mwList' is not defined"
     ]
    }
   ],
   "source": [
    "plt.pie(mwList, labes = mwLabels, autopct = \"%1.1f%%\")\n",
    "plt.legend(mwLabels)\n",
    "plt.show()"
   ]
  },
  {
   "cell_type": "code",
   "execution_count": null,
   "metadata": {},
   "outputs": [],
   "source": [
    "# Latihan case sesi 2\n",
    "\n",
    "# For given DNA sequences:\n",
    "#  Sequence A:\n",
    "# AGCTTGCAGCGTCCGTTAGCTCGAGTCCAGGACGTTAGTCCTGCAGTC\n",
    "# Sequence B:\n",
    "# CAGTAAGTTGCCGTTAGCGCGTAGTGCCAGTAAGCGGCTCGTTAGTGG\n",
    "\n",
    "# Please use Biopython to:\n",
    "# •\tDetermine the molecular weight of both sequence.\n",
    "# •\tRefer to the Wallace rule to calculate the melting point of sequence A and sequence B and plot them using Matplotlib library.\n",
    "# •\tCalculate the GC content of sequence A and sequence B.\n",
    "# •\tCalculate the AT content of sequence A and sequence B.\n",
    "# •\tPlot the GC and AT content of sequence A and sequence B using Matplotlib library.\n"
   ]
  },
  {
   "cell_type": "code",
   "execution_count": null,
   "metadata": {},
   "outputs": [],
   "source": [
    "print(mw(SeqA), \"g/mol\")\n",
    "print(mw(SeqB), \"g/mol\")"
   ]
  },
  {
   "cell_type": "code",
   "execution_count": null,
   "metadata": {},
   "outputs": [],
   "source": [
    "walA = mt.Tm_Wallace(SeqA)\n",
    "walB = mt.Tm_Wallace(SeqB)\n",
    "walList = [walA, walB]\n",
    "walLabels = [\"A\", \"B\"]\n",
    "\n",
    "plt.pie(walLabels, walList)\n",
    "plt.show()"
   ]
  },
  {
   "cell_type": "code",
   "execution_count": null,
   "metadata": {},
   "outputs": [],
   "source": [
    "gcA = GC(SeqA)\n",
    "gcB = GC(SeqB)\n",
    "print(gcA, \"%\")\n",
    "print(gcB, \"%\")"
   ]
  },
  {
   "cell_type": "code",
   "execution_count": null,
   "metadata": {},
   "outputs": [],
   "source": [
    "atA = 100 - GC(SeqA)\n",
    "atB = 100 - GC(SeqB)\n",
    "print(atA, \"%\")\n",
    "print(atB, \"%\")"
   ]
  },
  {
   "cell_type": "code",
   "execution_count": null,
   "metadata": {},
   "outputs": [],
   "source": [
    "A = [gcA, atA]\n",
    "B = [gcB, atB]\n",
    "plt.pie(A)\n",
    "plt.show()\n",
    "\n",
    "plt.pie(B)\n",
    "plt.show()"
   ]
  }
 ],
 "metadata": {
  "kernelspec": {
   "display_name": "Python 3",
   "language": "python",
   "name": "python3"
  },
  "language_info": {
   "codemirror_mode": {
    "name": "ipython",
    "version": 3
   },
   "file_extension": ".py",
   "mimetype": "text/x-python",
   "name": "python",
   "nbconvert_exporter": "python",
   "pygments_lexer": "ipython3",
   "version": "3.11.4"
  }
 },
 "nbformat": 4,
 "nbformat_minor": 2
}
